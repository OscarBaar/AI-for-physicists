{
 "cells": [
  {
   "cell_type": "code",
   "execution_count": 1,
   "metadata": {},
   "outputs": [],
   "source": [
    "import os\n",
    "import numpy as np\n",
    "import pandas as pd\n",
    "import matplotlib.pyplot as plt\n",
    "import ipywidgets as widgets\n",
    "from IPython.display import display\n",
    "import random\n",
    "from src.generator_correct import DataGenerator\n"
   ]
  },
  {
   "cell_type": "code",
   "execution_count": 2,
   "metadata": {},
   "outputs": [],
   "source": [
    "batch_size = 4\n",
    "num_epochs = 30\n",
    "\n",
    "path=r\"C:\\Users\\helsa\\Documents\\AP3751\\data_2d\\data_2d\"\n",
    "data_df=pd.read_csv(os.path.join(path, \"file_info.csv\"))\n",
    "\n",
    "\n",
    "data_df=data_df[data_df[\"Max_Value\"]>300]\n",
    "\n",
    "scale={'x_min':data_df[\"Min_Value\"].min(),\"x_max\":data_df[\"Max_Value\"].max()}"
   ]
  },
  {
   "cell_type": "code",
   "execution_count": 3,
   "metadata": {},
   "outputs": [],
   "source": [
    "train_split = 0.7\n",
    "val_split = 0.15\n",
    "test_split = 0.15\n",
    "\n",
    "listIDs=data_df['File_Name'].tolist()\n"
   ]
  },
  {
   "cell_type": "code",
   "execution_count": 4,
   "metadata": {},
   "outputs": [],
   "source": [
    "random.seed(333)\n",
    "random.shuffle(listIDs)\n",
    "\n",
    "\n",
    "trainIDs = listIDs[:int(round(train_split*len(listIDs)))]\n",
    "valIDs = listIDs[int(round(train_split*len(listIDs))):]\n",
    "testIDs = listIDs[int(round((train_split + val_split)*len(listIDs))):]\n",
    "\n",
    "\n",
    "\n",
    "test_df = data_df[data_df['File_Name'].isin(testIDs)]"
   ]
  },
  {
   "cell_type": "code",
   "execution_count": 6,
   "metadata": {},
   "outputs": [],
   "source": [
    "train_gen=DataGenerator(trainIDs,batch_size,path,scale)\n",
    "val_gen=DataGenerator(valIDs,batch_size,path,scale)"
   ]
  }
 ],
 "metadata": {
  "kernelspec": {
   "display_name": "ap3751",
   "language": "python",
   "name": "python3"
  },
  "language_info": {
   "codemirror_mode": {
    "name": "ipython",
    "version": 3
   },
   "file_extension": ".py",
   "mimetype": "text/x-python",
   "name": "python",
   "nbconvert_exporter": "python",
   "pygments_lexer": "ipython3",
   "version": "3.9.19"
  }
 },
 "nbformat": 4,
 "nbformat_minor": 2
}
