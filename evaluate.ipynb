{
 "cells": [
  {
   "cell_type": "code",
   "execution_count": 1,
   "metadata": {},
   "outputs": [],
   "source": [
    "import os\n",
    "import numpy as np\n",
    "import pandas as pd\n",
    "import matplotlib.pyplot as plt\n",
    "import random\n",
    "import torch\n",
    "import torch.nn as nn\n",
    "import torch.optim as optim\n",
    "from tqdm import tqdm\n",
    "\n",
    "from src.generator_correct import DataGenerator\n",
    "from src.blocks import Autoencoder, ConvDecoder, ConvEncoder\n",
    "from torchvision import transforms\n",
    "import pickle\n"
   ]
  },
  {
   "cell_type": "code",
   "execution_count": 2,
   "metadata": {},
   "outputs": [],
   "source": [
    "with open(\"train_loss\", \"rb\") as fp:\n",
    "    train_loss = pickle.load(fp)\n",
    "with open(\"val_loss\", \"rb\") as fp:\n",
    "    val_loss = pickle.load(fp)\n",
    "with open(\"legacy_code/old_model/val_loss_stride.pkl\", \"rb\") as fp:\n",
    "    val_loss_stride = pickle.load(fp)\n",
    "with open(\"legacy_code/old_model/train_loss_stride.pkl\", \"rb\") as fp:\n",
    "    train_loss_stride = pickle.load(fp)\n",
    "with open(\"legacy_code/old_model/val_loss_average.pkl\", \"rb\") as fp:\n",
    "    val_loss_average = pickle.load(fp)\n",
    "with open(\"legacy_code/old_model/train_loss_average.pkl\", \"rb\") as fp:\n",
    "    train_loss_average = pickle.load(fp)\n",
    "    "
   ]
  },
  {
   "cell_type": "code",
   "execution_count": 3,
   "metadata": {},
   "outputs": [
    {
     "data": {
      "text/plain": [
       "<matplotlib.legend.Legend at 0x7efdf41f9250>"
      ]
     },
     "execution_count": 3,
     "metadata": {},
     "output_type": "execute_result"
    },
    {
     "data": {
      "image/png": "[encoded data removed]",
      "text/plain": [
       "<Figure size 432x288 with 1 Axes>"
      ]
     },
     "metadata": {
      "needs_background": "light"
     },
     "output_type": "display_data"
    }
   ],
   "source": [
    "plt.plot(train_loss, label=\"train\")\n",
    "plt.plot(val_loss, label=\"val\")\n",
    "plt.plot(train_loss_stride, label=\"train_stride\")\n",
    "plt.plot(val_loss_stride, label=\"val_stride\")\n",
    "plt.plot(train_loss_average, label=\"train_average\")\n",
    "plt.plot(val_loss_average, label=\"val_average\")\n",
    "plt.yscale('log')\n",
    "plt.legend()"
   ]
  },
  {
   "cell_type": "code",
   "execution_count": 6,
   "metadata": {},
   "outputs": [
    {
     "data": {
      "text/plain": [
       "0.0005136852320120262"
      ]
     },
     "execution_count": 6,
     "metadata": {},
     "output_type": "execute_result"
    }
   ],
   "source": [
    "min(val_loss)"
   ]
  },
  {
   "cell_type": "code",
   "execution_count": 5,
   "metadata": {},
   "outputs": [],
   "source": [
    "path = r\"data\"\n",
    "data_df = pd.read_csv(os.path.join(path, \"file_info.csv\"))\n",
    "\n",
    "data_df = data_df[data_df[\"Max_Value\"] > 300]\n",
    "\n",
    "scale = {'x_min': data_df[\"Min_Value\"].min(), \"x_max\": data_df[\"Max_Value\"].max()}\n",
    "\n",
    "train_split = 0.7\n",
    "val_split = 0.15\n",
    "test_split = 0.15\n",
    "\n",
    "listIDs = data_df['File_Name'].tolist()\n",
    "\n",
    "random.seed(333)\n",
    "random.shuffle(listIDs)\n",
    "\n",
    "trainIDs = listIDs[:int(round(train_split * len(listIDs)))]\n",
    "valIDs = listIDs[int(round(train_split * len(listIDs))):int(round((train_split + val_split) * len(listIDs)))]\n",
    "testIDs = listIDs[int(round((train_split + val_split) * len(listIDs))):]\n",
    "\n",
    "test_df = data_df[data_df['File_Name'].isin(testIDs)]\n",
    "weights=\"best_model_average.pth\"\n",
    "\n",
    "encoder = ConvEncoder(num_channels=64, kernel_size=5, strides=1, pooling=2)\n",
    "decoder = ConvDecoder(num_channels=64, kernel_size=5, strides=2)\n",
    "model = Autoencoder(encoder, decoder)"
   ]
  },
  {
   "cell_type": "code",
   "execution_count": 6,
   "metadata": {},
   "outputs": [],
   "source": [
    "def load_model(weights_path, encoder, decoder):\n",
    "    model = Autoencoder(encoder, decoder)\n",
    "    model.load_state_dict(torch.load(weights_path, map_location=torch.device('cuda:0')))\n",
    "    model.eval()\n",
    "    return model\n",
    "\n",
    "def preprocess_image(image_array):\n",
    "    if image_array.dtype != np.float32:\n",
    "        image_array = image_array.astype(np.float32)\n",
    "    transform = transforms.Compose([\n",
    "        transforms.ToTensor()\n",
    "    ])\n",
    "    image_tensor = transform(image_array)\n",
    "    image_tensor = image_tensor.unsqueeze(0)  # Add batch dimension\n",
    "    return image_tensor\n",
    "\n",
    "def get_prediction(model, image_tensor, device):\n",
    "    model.to(device)\n",
    "    image_tensor = image_tensor.to(device)\n",
    "    with torch.no_grad():\n",
    "        output = model(image_tensor)\n",
    "    return output.cpu().numpy()"
   ]
  },
  {
   "cell_type": "code",
   "execution_count": 7,
   "metadata": {},
   "outputs": [],
   "source": [
    "def main():\n",
    "    idx=np.random.randint(0, len(test_df))\n",
    "    image_path = os.path.join(path, test_df.iloc[idx][\"File_Name\"])\n",
    "\n",
    "    image_array = np.load(image_path)\n",
    "    image_array =(image_array -scale['x_min'])/(scale['x_max']-scale['x_min'])  # Load your image array here\n",
    "    weights = \"best_model_average.pth\"\n",
    "\n",
    "    encoder = ConvEncoder(num_channels=64, kernel_size=5, strides=1, pooling=2)\n",
    "    decoder = ConvDecoder(num_channels=64, kernel_size=5, strides=2)\n",
    "    model = load_model(weights, encoder, decoder)\n",
    "\n",
    "    image_tensor = preprocess_image(image_array)\n",
    "\n",
    "    device = torch.device(\"cuda:0\" if torch.cuda.is_available() else \"cpu\")\n",
    "    prediction = get_prediction(model, image_tensor, device)\n",
    "    prediction= prediction * (scale['x_max']-scale['x_min']) + scale['x_min']\n",
    "    image_array= image_array * (scale['x_max']-scale['x_min']) + scale['x_min']\n",
    "    return np.squeeze(prediction) , np.squeeze(image_array)"
   ]
  },
  {
   "cell_type": "code",
   "execution_count": 12,
   "metadata": {},
   "outputs": [
    {
     "name": "stdout",
     "output_type": "stream",
     "text": [
      "0.1560398713442476\n",
      "0.24111951074447627\n"
     ]
    }
   ],
   "source": [
    "x=np.array([1,2,3,4,5,100])\n",
    "y=np.array([1,2,3,4,5])\n",
    "\n",
    "x=(x-np.min(x))/(np.max(x)-np.min(x))\n",
    "y=(y-np.min(y))/(np.max(y)-np.min(y))\n",
    "\n",
    "\n",
    "p=np.random.random(len(x))/10\n",
    "q=np.random.random(len(y))\n",
    "x,y,p,q\n",
    "\n",
    "print(np.mean((x-p)**2))\n",
    "print(np.mean((y-q)**2))\n"
   ]
  },
  {
   "cell_type": "code",
   "execution_count": 9,
   "metadata": {},
   "outputs": [
    {
     "name": "stdout",
     "output_type": "stream",
     "text": [
      "(200, 200)\n",
      "(400, 400)\n"
     ]
    },
    {
     "ename": "ValueError",
     "evalue": "operands could not be broadcast together with shapes (200,200) (400,400) ",
     "output_type": "error",
     "traceback": [
      "\u001B[0;31m---------------------------------------------------------------------------\u001B[0m",
      "\u001B[0;31mValueError\u001B[0m                                Traceback (most recent call last)",
      "Input \u001B[0;32mIn [9]\u001B[0m, in \u001B[0;36m<cell line: 9>\u001B[0;34m()\u001B[0m\n\u001B[1;32m      6\u001B[0m \u001B[38;5;28mprint\u001B[39m(prediction\u001B[38;5;241m.\u001B[39mshape)\n\u001B[1;32m      7\u001B[0m \u001B[38;5;28mprint\u001B[39m(ground_truth\u001B[38;5;241m.\u001B[39mshape)\n\u001B[0;32m----> 9\u001B[0m difference \u001B[38;5;241m=\u001B[39m \u001B[43mprediction\u001B[49m\u001B[43m \u001B[49m\u001B[38;5;241;43m-\u001B[39;49m\u001B[43m \u001B[49m\u001B[43mground_truth\u001B[49m\n\u001B[1;32m     11\u001B[0m \u001B[38;5;66;03m# Find the global min and max values for the colorbar\u001B[39;00m\n\u001B[1;32m     12\u001B[0m vmin \u001B[38;5;241m=\u001B[39m ground_truth\u001B[38;5;241m.\u001B[39mmin() \n",
      "\u001B[0;31mValueError\u001B[0m: operands could not be broadcast together with shapes (200,200) (400,400) "
     ]
    }
   ],
   "source": [
    "import numpy as np\n",
    "import matplotlib.pyplot as plt\n",
    "\n",
    "# Assuming prediction and ground_truth are already defined\n",
    "prediction, ground_truth = main()\n",
    "print(prediction.shape)\n",
    "print(ground_truth.shape)\n",
    "\n",
    "difference = prediction - ground_truth\n",
    "\n",
    "# Find the global min and max values for the colorbar\n",
    "vmin = ground_truth.min() \n",
    "vmax = ground_truth.max()\n",
    "\n",
    "\n",
    "\n",
    "fig, axs = plt.subplots(1, 3, figsize=(15, 5))\n",
    "\n",
    "# Ground truth plot\n",
    "im0 = axs[0].imshow(ground_truth, cmap='gray', vmin=vmin, vmax=vmax)\n",
    "axs[0].set_title('Ground Truth')\n",
    "\n",
    "# Prediction plot\n",
    "im1 = axs[1].imshow(prediction, cmap='gray', vmin=vmin, vmax=vmax)\n",
    "axs[1].set_title('Prediction')\n",
    "\n",
    "# Difference plot\n",
    "im2 = axs[2].imshow(difference, cmap='jet', vmin=vmin, vmax=vmax)\n",
    "axs[2].set_title('Difference')\n",
    "\n",
    "# Add a single colorbar for all images\n",
    "fig.colorbar(im0, ax=axs, orientation='vertical', fraction=0.02, pad=0.04)\n",
    "\n",
    "plt.show()\n"
   ]
  },
  {
   "cell_type": "code",
   "execution_count": null,
   "metadata": {},
   "outputs": [],
   "source": []
  }
 ],
 "metadata": {
  "kernelspec": {
   "display_name": "base",
   "language": "python",
   "name": "python3"
  },
  "language_info": {
   "codemirror_mode": {
    "name": "ipython",
    "version": 3
   },
   "file_extension": ".py",
   "mimetype": "text/x-python",
   "name": "python",
   "nbconvert_exporter": "python",
   "pygments_lexer": "ipython3",
   "version": "3.9.undefined"
  }
 },
 "nbformat": 4,
 "nbformat_minor": 2
}
